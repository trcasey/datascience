{
 "cells": [
  {
   "cell_type": "markdown",
   "metadata": {},
   "source": [
    "\n",
    "### Examining racial discrimination in the US job market\n",
    "\n",
    "#### Background\n",
    "Racial discrimination continues to be pervasive in cultures throughout the world. Researchers examined the level of racial discrimination in the United States labor market by randomly assigning identical résumés black-sounding or white-sounding names and observing the impact on requests for interviews from employers.\n",
    "\n",
    "#### Data\n",
    "In the dataset provided, each row represents a resume. The 'race' column has two values, 'b' and 'w', indicating black-sounding and white-sounding. The column 'call' has two values, 1 and 0, indicating whether the resume received a call from employers or not.\n",
    "\n",
    "Note that the 'b' and 'w' values in race are assigned randomly to the resumes.\n",
    "\n",
    "#### Exercise\n",
    "You will perform a statistical analysis to establish whether race has a significant impact on the rate of callbacks for resumes.\n",
    "\n",
    "Answer the following questions **in this notebook below and submit to your Github account**. \n",
    "\n",
    "   1. What test is appropriate for this problem? Does CLT apply?\n",
    "   2. What are the null and alternate hypotheses?\n",
    "   3. Compute margin of error, confidence interval, and p-value.\n",
    "   4. Discuss statistical significance.\n",
    "\n",
    "You can include written notes in notebook cells using Markdown: \n",
    "   - In the control panel at the top, choose Cell > Cell Type > Markdown\n",
    "   - Markdown syntax: http://nestacms.com/docs/creating-content/markdown-cheat-sheet\n",
    "\n",
    "\n",
    "#### Resources\n",
    "+ Experiment information and data source: http://www.povertyactionlab.org/evaluation/discrimination-job-market-united-states\n",
    "+ Scipy statistical methods: http://docs.scipy.org/doc/scipy/reference/stats.html \n",
    "+ Markdown syntax: http://nestacms.com/docs/creating-content/markdown-cheat-sheet\n",
    "\n",
    "****"
   ]
  },
  {
   "cell_type": "code",
   "execution_count": 1,
   "metadata": {
    "collapsed": true
   },
   "outputs": [],
   "source": [
    "import pandas as pd\n",
    "import numpy as np\n",
    "from scipy import stats\n",
    "import matplotlib.pyplot as plt\n",
    "import seaborn as sns\n",
    "\n",
    "%matplotlib inline"
   ]
  },
  {
   "cell_type": "code",
   "execution_count": 2,
   "metadata": {
    "collapsed": false
   },
   "outputs": [],
   "source": [
    "data = pd.io.stata.read_stata('data/us_job_market_discrimination.dta')"
   ]
  },
  {
   "cell_type": "code",
   "execution_count": 3,
   "metadata": {
    "collapsed": false
   },
   "outputs": [
    {
     "data": {
      "text/plain": [
       "157.0"
      ]
     },
     "execution_count": 3,
     "metadata": {},
     "output_type": "execute_result"
    }
   ],
   "source": [
    "# number of callbacks for balck-sounding names\n",
    "sum(data[data.race=='b'].call)"
   ]
  },
  {
   "cell_type": "markdown",
   "metadata": {
    "collapsed": true
   },
   "source": [
    "## 1. What test is appropriate for this problem? Does CLT apply?"
   ]
  },
  {
   "cell_type": "markdown",
   "metadata": {},
   "source": [
    "This problem requires us to split the data into two groups: white-sounding names and black-sounding names. Since the call rate data is either yes or no (a binomial distribution) the probability of getting a call back will be the same as the mean of the call column. "
   ]
  },
  {
   "cell_type": "code",
   "execution_count": 4,
   "metadata": {
    "collapsed": false
   },
   "outputs": [
    {
     "name": "stdout",
     "output_type": "stream",
     "text": [
      "Total number of black-sounding name samples: 2435\n",
      "Total number of white-sounding name samples: 2435\n"
     ]
    }
   ],
   "source": [
    "black_df = data[data.race == 'b']\n",
    "white_df = data[data.race == 'w']\n",
    "print \"Total number of black-sounding name samples:\", len(black_df)\n",
    "print \"Total number of white-sounding name samples:\", len(white_df)"
   ]
  },
  {
   "cell_type": "code",
   "execution_count": 5,
   "metadata": {
    "collapsed": false
   },
   "outputs": [
    {
     "name": "stdout",
     "output_type": "stream",
     "text": [
      "Mean for black-sounding names: 0.0644763857126\n",
      "Mean for white-sounding names: 0.0965092405677\n",
      "Difference of means: 0.0320328548551\n"
     ]
    }
   ],
   "source": [
    "mean_b = black_df.call.mean()\n",
    "mean_w = white_df.call.mean()\n",
    "mean_diff = mean_w - mean_b\n",
    "\n",
    "print \"Mean for black-sounding names:\", mean_b\n",
    "print \"Mean for white-sounding names:\", mean_w\n",
    "print \"Difference of means:\", mean_diff"
   ]
  },
  {
   "cell_type": "markdown",
   "metadata": {},
   "source": [
    "To determine if the Central Limit Theorem (CLT) applies we'll use the rule of thumb that if np >= 10 and np(1-p) >= 10, then our sample size is large enough to use the normal approximation."
   ]
  },
  {
   "cell_type": "code",
   "execution_count": 6,
   "metadata": {
    "collapsed": false
   },
   "outputs": [
    {
     "name": "stdout",
     "output_type": "stream",
     "text": [
      "156.99999921\n",
      "2278.00000079\n",
      "235.000000782\n",
      "2199.99999922\n"
     ]
    }
   ],
   "source": [
    "print len(black_df)*mean_b\n",
    "print len(black_df)*(1-mean_b)\n",
    "print len(white_df)*mean_w\n",
    "print len(white_df)*(1-mean_w)"
   ]
  },
  {
   "cell_type": "markdown",
   "metadata": {},
   "source": [
    "Yes, CLT applies."
   ]
  },
  {
   "cell_type": "markdown",
   "metadata": {},
   "source": [
    "## 2. What are the null and alternate hypotheses?"
   ]
  },
  {
   "cell_type": "markdown",
   "metadata": {},
   "source": [
    "The null hypothesis is that there will not be a difference in the call back rates for black-sounding names and white-sounding names. The alternate hypothesis is that there will be a difference."
   ]
  },
  {
   "cell_type": "markdown",
   "metadata": {},
   "source": [
    "## 3. Compute margin of error, confidence interval, and p-value"
   ]
  },
  {
   "cell_type": "code",
   "execution_count": 7,
   "metadata": {
    "collapsed": false
   },
   "outputs": [
    {
     "name": "stdout",
     "output_type": "stream",
     "text": [
      "margin of error: 0.0152554063487\n",
      "confidence interval: [0.0021322584116393074, 0.061933451298481851]\n"
     ]
    }
   ],
   "source": [
    "z = 1.96 #z-value for a 95% confidence\n",
    "\n",
    "stdev_b = mean_b * (1-mean_b)\n",
    "stdev_w = mean_w * (1-mean_w)\n",
    "\n",
    "margin_of_error = z * np.sqrt(stdev_b/len(black_df) + stdev_w/len(white_df))\n",
    "\n",
    "lower_bound = mean_diff - z * margin_of_error\n",
    "upper_bound = mean_diff + z * margin_of_error\n",
    "conf_interval = [lower_bound, upper_bound]\n",
    "\n",
    "print 'margin of error:', margin_of_error\n",
    "print 'confidence interval:', conf_interval"
   ]
  },
  {
   "cell_type": "code",
   "execution_count": 8,
   "metadata": {
    "collapsed": false
   },
   "outputs": [
    {
     "name": "stdout",
     "output_type": "stream",
     "text": [
      "p-value: 3.94294151365e-05\n"
     ]
    }
   ],
   "source": [
    "pval = stats.ttest_ind(white_df.call, black_df.call, equal_var=False)[1]\n",
    "print 'p-value:', pval"
   ]
  },
  {
   "cell_type": "markdown",
   "metadata": {},
   "source": [
    "## 4. Discuss statistical significance."
   ]
  },
  {
   "cell_type": "markdown",
   "metadata": {},
   "source": [
    "Since zero isn't contained within the confidence interval and the p-value is approaching zero the result is statistically significant and we can reject the null hypothesis."
   ]
  }
 ],
 "metadata": {
  "kernelspec": {
   "display_name": "Python 2",
   "language": "python",
   "name": "python2"
  },
  "language_info": {
   "codemirror_mode": {
    "name": "ipython",
    "version": 2
   },
   "file_extension": ".py",
   "mimetype": "text/x-python",
   "name": "python",
   "nbconvert_exporter": "python",
   "pygments_lexer": "ipython2",
   "version": "2.7.11"
  }
 },
 "nbformat": 4,
 "nbformat_minor": 0
}
